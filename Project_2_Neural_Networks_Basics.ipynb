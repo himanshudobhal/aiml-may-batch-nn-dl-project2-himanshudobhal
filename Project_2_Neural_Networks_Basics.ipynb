{
  "nbformat": 4,
  "nbformat_minor": 0,
  "metadata": {
    "colab": {
      "name": "Project 2 - Neural Networks Basics.ipynb",
      "version": "0.3.2",
      "provenance": [],
      "collapsed_sections": []
    },
    "kernelspec": {
      "name": "python3",
      "display_name": "Python 3"
    },
    "accelerator": "GPU"
  },
  "cells": [
    {
      "metadata": {
        "id": "JteOmId8PwWz",
        "colab_type": "text"
      },
      "cell_type": "markdown",
      "source": [
        "### The Street View House Numbers (SVHN) Dataset\n",
        "[http://ufldl.stanford.edu/housenumbers/]\n",
        "\n",
        "SVHN is a real-world image dataset for developing machine learning and object recognition algorithms with minimal requirement on data preprocessing and formatting. It can be seen as similar in flavor to MNIST (e.g., the images are of small cropped digits), but incorporates an order of magnitude more labeled data (over 600,000 digit images) and comes from a significantly harder, unsolved, real world problem (recognizing digits and numbers in natural scene images). SVHN is obtained from house numbers in Google Street View images."
      ]
    },
    {
      "metadata": {
        "id": "FuedFuWGPwW0",
        "colab_type": "text"
      },
      "cell_type": "markdown",
      "source": [
        "Dataset:\n",
        "https://drive.google.com/file/d/1L2-WXzguhUsCArrFUc8EEkXcj33pahoS/view?usp=sharing"
      ]
    },
    {
      "metadata": {
        "id": "rwiy4mT7PwW2",
        "colab_type": "text"
      },
      "cell_type": "markdown",
      "source": [
        "The goal of this project is to take an image from the SVHN dataset and determine what that digit is.\n",
        "This is a multi-class classification problem with 10 classes, one for each digit 0-9. Digit '1' has label 1,\n",
        "'9' has label 9 and '0' has label 10.\n",
        "\n",
        "Although, there are close to 6,00,000 images in this dataset, we have extracted 60,000 images\n",
        "(42000 training and 18000 test images) to do this project. The data comes in a MNIST-like format of\n",
        "32-by-32 RGB images centred around a single digit (many of the images do contain some distractors\n",
        "at the sides). "
      ]
    },
    {
      "metadata": {
        "id": "xbMWeID_PwW3",
        "colab_type": "text"
      },
      "cell_type": "markdown",
      "source": [
        "### Goals:\n",
        "\n",
        "The objective of the project is to learn how to implement a simple image classification\n",
        "pipeline based on the k-Nearest Neighbour and a deep neural network. The goals of this\n",
        "assignment are as follows:"
      ]
    },
    {
      "metadata": {
        "id": "ukJAEHAVP2iU",
        "colab_type": "code",
        "outputId": "2ed05a79-07bc-48cb-969b-e73f5c620de3",
        "colab": {
          "base_uri": "https://localhost:8080/",
          "height": 122
        }
      },
      "cell_type": "code",
      "source": [
        "from google.colab import drive\n",
        "drive.mount('/content/drive')"
      ],
      "execution_count": 1,
      "outputs": [
        {
          "output_type": "stream",
          "text": [
            "Go to this URL in a browser: https://accounts.google.com/o/oauth2/auth?client_id=947318989803-6bn6qk8qdgf4n4g3pfee6491hc0brc4i.apps.googleusercontent.com&redirect_uri=urn%3Aietf%3Awg%3Aoauth%3A2.0%3Aoob&scope=email%20https%3A%2F%2Fwww.googleapis.com%2Fauth%2Fdocs.test%20https%3A%2F%2Fwww.googleapis.com%2Fauth%2Fdrive%20https%3A%2F%2Fwww.googleapis.com%2Fauth%2Fdrive.photos.readonly%20https%3A%2F%2Fwww.googleapis.com%2Fauth%2Fpeopleapi.readonly&response_type=code\n",
            "\n",
            "Enter your authorization code:\n",
            "··········\n",
            "Mounted at /content/drive\n"
          ],
          "name": "stdout"
        }
      ]
    },
    {
      "metadata": {
        "id": "wbE0yCmZP2-m",
        "colab_type": "code",
        "colab": {
          "base_uri": "https://localhost:8080/",
          "height": 34
        },
        "outputId": "b6927c68-0a11-4f13-ca4e-6e2b863938d7"
      },
      "cell_type": "code",
      "source": [
        "# Import libraries\n",
        "\n",
        "import h5py\n",
        "import numpy as np\n",
        "import matplotlib.pyplot as plt\n",
        "import seaborn as sns\n",
        "\n",
        "import keras\n",
        "import tensorflow as tf\n",
        "from keras.datasets import cifar10, mnist\n",
        "from keras.models import Sequential\n",
        "from keras.callbacks import Callback\n",
        "from keras.layers import Reshape, Dense, Activation, Dropout, Flatten, BatchNormalization\n",
        "from keras.preprocessing.image import ImageDataGenerator\n",
        "from keras.layers import Conv2D, MaxPool2D\n",
        "from keras.utils import np_utils\n",
        "\n",
        "%matplotlib inline\n",
        "plt.rcParams['figure.figsize'] = (16.0, 4.0) # Set default figure size"
      ],
      "execution_count": 2,
      "outputs": [
        {
          "output_type": "stream",
          "text": [
            "Using TensorFlow backend.\n"
          ],
          "name": "stderr"
        }
      ]
    },
    {
      "metadata": {
        "id": "JZRhm26iPwW3",
        "colab_type": "text"
      },
      "cell_type": "markdown",
      "source": [
        "### Understand the basic Image Classification pipeline and the data-driven approach (train/predict stages)\n"
      ]
    },
    {
      "metadata": {
        "id": "4tHWG1EjPwW4",
        "colab_type": "code",
        "colab": {}
      },
      "cell_type": "code",
      "source": [
        "BASE_PATH = './drive/My Drive/Colab Notebooks/dataset/PGAIML/Residency7-Project/Project2/'\n",
        "\n",
        "BATCH_SIZE = 32\n",
        "INPUT_SIZE = 32\n",
        "EPOCHS = 20\n",
        "\n",
        "input_shape = (INPUT_SIZE,INPUT_SIZE,)"
      ],
      "execution_count": 0,
      "outputs": []
    },
    {
      "metadata": {
        "id": "TZcQoaSlPwW8",
        "colab_type": "text"
      },
      "cell_type": "markdown",
      "source": [
        "### Data fetching and understand the train/val/test splits."
      ]
    },
    {
      "metadata": {
        "id": "lMAgqT7-PwW8",
        "colab_type": "code",
        "outputId": "d5f547ce-aa22-4820-beec-011816117e07",
        "colab": {
          "base_uri": "https://localhost:8080/",
          "height": 68
        }
      },
      "cell_type": "code",
      "source": [
        "# Open the file as readonly\n",
        "h5f = h5py.File(BASE_PATH+'SVHN_single_grey1.h5', 'r')\n",
        "\n",
        "# Load the training, test and validation set\n",
        "X_train = h5f['X_train'][:]\n",
        "y_train = h5f['y_train'][:]\n",
        "X_test = h5f['X_test'][:]\n",
        "y_test = h5f['y_test'][:]\n",
        "X_val = h5f['X_val'][:]\n",
        "y_val = h5f['y_val'][:]\n",
        "\n",
        "# Close this file\n",
        "h5f.close()\n",
        "\n",
        "print('Training set', X_train.shape, y_train.shape)\n",
        "print('Validation set', X_val.shape, y_val.shape)\n",
        "print('Test set', X_test.shape, y_test.shape)"
      ],
      "execution_count": 4,
      "outputs": [
        {
          "output_type": "stream",
          "text": [
            "Training set (42000, 32, 32) (42000,)\n",
            "Validation set (60000, 32, 32) (60000,)\n",
            "Test set (18000, 32, 32) (18000,)\n"
          ],
          "name": "stdout"
        }
      ]
    },
    {
      "metadata": {
        "id": "XGqR731TPwW_",
        "colab_type": "text"
      },
      "cell_type": "markdown",
      "source": [
        "### Implement and apply an optimal k-Nearest Neighbor (kNN) classifier (7.5 points)\n"
      ]
    },
    {
      "metadata": {
        "id": "_QXwYH9APwXA",
        "colab_type": "code",
        "outputId": "49be4660-221b-4811-8dd4-b7398fd7ff69",
        "colab": {
          "base_uri": "https://localhost:8080/",
          "height": 187
        }
      },
      "cell_type": "code",
      "source": [
        "from sklearn.neighbors import KNeighborsClassifier\n",
        "from sklearn.model_selection import cross_val_score\n",
        "\n",
        "# creating odd list of K for KNN\n",
        "neighbors = list(range(1,11))\n",
        "\n",
        "\n",
        "# empty list that will hold cv scores\n",
        "cv_scores = []\n",
        "# perform 10-fold cross validation\n",
        "for k in neighbors:\n",
        "    knn = KNeighborsClassifier(n_neighbors=k)\n",
        "    scores = cross_val_score(knn, X_train[:,:,0], y_train, cv=10, scoring='accuracy')\n",
        "    cv_scores.append(scores.mean())\n",
        "    print(f'Score calculated for neigbour {k} = {cv_scores[k-1]}')\n"
      ],
      "execution_count": 5,
      "outputs": [
        {
          "output_type": "stream",
          "text": [
            "Score calculated for neigbour 1 = 0.1082390300614829\n",
            "Score calculated for neigbour 2 = 0.1147146740993373\n",
            "Score calculated for neigbour 3 = 0.11611878981198565\n",
            "Score calculated for neigbour 4 = 0.11666705537254904\n",
            "Score calculated for neigbour 5 = 0.11673906873978383\n",
            "Score calculated for neigbour 6 = 0.11521430645624042\n",
            "Score calculated for neigbour 7 = 0.11623904672046885\n",
            "Score calculated for neigbour 8 = 0.11723930705436562\n",
            "Score calculated for neigbour 9 = 0.11866624065703316\n",
            "Score calculated for neigbour 10 = 0.1179754808713894\n"
          ],
          "name": "stdout"
        }
      ]
    },
    {
      "metadata": {
        "id": "bEYnwn58XKPf",
        "colab_type": "code",
        "outputId": "35a27cfe-bd0d-4d58-ccb8-a17eb5bb4254",
        "colab": {
          "base_uri": "https://localhost:8080/",
          "height": 313
        }
      },
      "cell_type": "code",
      "source": [
        "# changing to misclassification error\n",
        "MSE = [1 - x for x in cv_scores]\n",
        "\n",
        "# determining best k\n",
        "optimal_k = neighbors[MSE.index(min(MSE))]\n",
        "print(\"The optimal number of neighbors is %d\" % optimal_k)\n",
        "\n",
        "# plot misclassification error vs k\n",
        "plt.plot(neighbors, MSE)\n",
        "plt.xlabel('Number of Neighbors K')\n",
        "plt.ylabel('Misclassification Error')"
      ],
      "execution_count": 6,
      "outputs": [
        {
          "output_type": "stream",
          "text": [
            "The optimal number of neighbors is 9\n"
          ],
          "name": "stdout"
        },
        {
          "output_type": "execute_result",
          "data": {
            "text/plain": [
              "Text(0,0.5,'Misclassification Error')"
            ]
          },
          "metadata": {
            "tags": []
          },
          "execution_count": 6
        },
        {
          "output_type": "display_data",
          "data": {
            "image/png": "[encoded data removed]",
            "text/plain": [
              "<matplotlib.figure.Figure at 0x7fc0ee588ba8>"
            ]
          },
          "metadata": {
            "tags": []
          }
        }
      ]
    },
    {
      "metadata": {
        "id": "ZGe4iF75XN-Z",
        "colab_type": "code",
        "outputId": "f4b8a288-4bab-44af-df9c-2275faedf8d8",
        "colab": {
          "base_uri": "https://localhost:8080/",
          "height": 34
        }
      },
      "cell_type": "code",
      "source": [
        "from sklearn.metrics import accuracy_score\n",
        "\n",
        "model = KNeighborsClassifier(n_neighbors= optimal_k)\n",
        "model.fit(X_train[:,:,0], y_train)\n",
        "y_pred = model.predict(X_test[:,:,0])\n",
        "\n",
        "# Calculate Accuracy Rate by using accuracy_score()\n",
        "print(\"Accuracy Rate, of k={%i} neighbours which is calculated by accuracy_score() is: %f\" \n",
        "      % (optimal_k,accuracy_score(y_test, y_pred)))"
      ],
      "execution_count": 7,
      "outputs": [
        {
          "output_type": "stream",
          "text": [
            "Accuracy Rate, of k={9} neighbours which is calculated by accuracy_score() is: 0.115500\n"
          ],
          "name": "stdout"
        }
      ]
    },
    {
      "metadata": {
        "id": "OPfKkCs7PwXC",
        "colab_type": "text"
      },
      "cell_type": "markdown",
      "source": [
        "### Print the classification metric report (2.5 points)\n"
      ]
    },
    {
      "metadata": {
        "id": "mlK5r3WCPwXD",
        "colab_type": "code",
        "outputId": "82ff9bd6-c85f-4444-ae3a-e35a6c165dcd",
        "colab": {
          "base_uri": "https://localhost:8080/",
          "height": 289
        }
      },
      "cell_type": "code",
      "source": [
        "from sklearn.metrics import classification_report\n",
        "\n",
        "map_characters = {0:'Zero',1:'One',2:'Two',3:'Three',4:'Four',5:'Five',6:'Six',7:'Seven', 8:'Eight',9:'Nine'}\n",
        "                  \n",
        "#print('\\n',classification_report(np.where(y_test > 0)[1], np.argmax(y_pred, axis=1), target_names=list(map_characters.values())), sep='')    \n",
        "print('\\n',classification_report(y_test, y_pred, target_names=list(map_characters.values())), sep='')    \n",
        "\n"
      ],
      "execution_count": 8,
      "outputs": [
        {
          "output_type": "stream",
          "text": [
            "\n",
            "             precision    recall  f1-score   support\n",
            "\n",
            "       Zero       0.14      0.23      0.17      1814\n",
            "        One       0.14      0.27      0.18      1828\n",
            "        Two       0.11      0.14      0.12      1803\n",
            "      Three       0.10      0.12      0.11      1719\n",
            "       Four       0.10      0.09      0.09      1812\n",
            "       Five       0.10      0.08      0.09      1768\n",
            "        Six       0.10      0.07      0.08      1832\n",
            "      Seven       0.11      0.06      0.08      1808\n",
            "      Eight       0.11      0.05      0.07      1812\n",
            "       Nine       0.09      0.04      0.05      1804\n",
            "\n",
            "avg / total       0.11      0.12      0.11     18000\n",
            "\n"
          ],
          "name": "stdout"
        }
      ]
    },
    {
      "metadata": {
        "id": "H42ekoR6PwXF",
        "colab_type": "text"
      },
      "cell_type": "markdown",
      "source": [
        "### Implement and apply a deep neural network classifier including (feedforward neural network, RELU activations) (5 points)\n"
      ]
    },
    {
      "metadata": {
        "id": "cPG2VflAPwXI",
        "colab_type": "text"
      },
      "cell_type": "markdown",
      "source": [
        "### Understand and be able to implement (vectorized) backpropagation (cost stochastic gradient descent, cross entropy loss, cost functions) (2.5 points)\n"
      ]
    },
    {
      "metadata": {
        "id": "RdETHveCPwXM",
        "colab_type": "text"
      },
      "cell_type": "markdown",
      "source": [
        "### Implement batch normalization for training the neural network (2.5 points)"
      ]
    },
    {
      "metadata": {
        "id": "xtvGsfUOhDFO",
        "colab_type": "code",
        "outputId": "fdd9bbec-ad9e-4125-a2db-4b02c5c4563d",
        "colab": {
          "base_uri": "https://localhost:8080/",
          "height": 374
        }
      },
      "cell_type": "code",
      "source": [
        "# Define Model\n",
        "model = Sequential()\n",
        "\n",
        "#Reshape data from 2D to 1D -> 32x32 to 1024\n",
        "model.add(Reshape((1024,),input_shape=input_shape))\n",
        "\n",
        "#Normalize the data\n",
        "model.add(BatchNormalization())\n",
        "\n",
        "#Add 1st hidden layer\n",
        "model.add(Dense(200, activation='relu'))\n",
        "\n",
        "\n",
        "#Add 2nd hidden layer\n",
        "model.add(Dense(100, activation='relu'))\n",
        "\n",
        "#Add 3rd hidden layer\n",
        "model.add(Dense(60, activation='relu'))\n",
        "\n",
        "#Add 4th hidden layer\n",
        "model.add(Dense(30, activation='relu'))\n",
        "\n",
        "#Add OUTPUT layer\n",
        "model.add(Dense(10, activation='softmax'))\n",
        "\n",
        "\n",
        "#Compile the model\n",
        "model.compile(optimizer='sgd', loss='categorical_crossentropy', metrics=['accuracy'])\n",
        "\n",
        "model.summary()\n"
      ],
      "execution_count": 9,
      "outputs": [
        {
          "output_type": "stream",
          "text": [
            "_________________________________________________________________\n",
            "Layer (type)                 Output Shape              Param #   \n",
            "=================================================================\n",
            "reshape_1 (Reshape)          (None, 1024)              0         \n",
            "_________________________________________________________________\n",
            "batch_normalization_1 (Batch (None, 1024)              4096      \n",
            "_________________________________________________________________\n",
            "dense_1 (Dense)              (None, 200)               205000    \n",
            "_________________________________________________________________\n",
            "dense_2 (Dense)              (None, 100)               20100     \n",
            "_________________________________________________________________\n",
            "dense_3 (Dense)              (None, 60)                6060      \n",
            "_________________________________________________________________\n",
            "dense_4 (Dense)              (None, 30)                1830      \n",
            "_________________________________________________________________\n",
            "dense_5 (Dense)              (None, 10)                310       \n",
            "=================================================================\n",
            "Total params: 237,396\n",
            "Trainable params: 235,348\n",
            "Non-trainable params: 2,048\n",
            "_________________________________________________________________\n"
          ],
          "name": "stdout"
        }
      ]
    },
    {
      "metadata": {
        "id": "qlnFfmWmPwXP",
        "colab_type": "code",
        "outputId": "8bab89e9-ae42-4fa2-86e0-2116a549047e",
        "colab": {
          "base_uri": "https://localhost:8080/",
          "height": 731
        }
      },
      "cell_type": "code",
      "source": [
        "y_train = tf.keras.utils.to_categorical(y_train, num_classes=10)\n",
        "y_val = tf.keras.utils.to_categorical(y_val, num_classes=10)\n",
        "\n",
        "# Train the model\n",
        "model.fit(X_train, y_train, validation_data=(X_val, y_val),epochs=EPOCHS, batch_size=BATCH_SIZE)\n"
      ],
      "execution_count": 10,
      "outputs": [
        {
          "output_type": "stream",
          "text": [
            "Train on 42000 samples, validate on 60000 samples\n",
            "Epoch 1/20\n",
            "42000/42000 [==============================] - 14s 338us/step - loss: 1.9523 - acc: 0.3139 - val_loss: 1.4396 - val_acc: 0.5359\n",
            "Epoch 2/20\n",
            "42000/42000 [==============================] - 12s 289us/step - loss: 1.2439 - acc: 0.6027 - val_loss: 1.0137 - val_acc: 0.6850\n",
            "Epoch 3/20\n",
            "42000/42000 [==============================] - 12s 288us/step - loss: 1.0232 - acc: 0.6797 - val_loss: 0.8498 - val_acc: 0.7431\n",
            "Epoch 4/20\n",
            "42000/42000 [==============================] - 12s 290us/step - loss: 0.9026 - acc: 0.7168 - val_loss: 0.7950 - val_acc: 0.7567\n",
            "Epoch 5/20\n",
            "42000/42000 [==============================] - 12s 288us/step - loss: 0.8276 - acc: 0.7421 - val_loss: 0.7524 - val_acc: 0.7689\n",
            "Epoch 6/20\n",
            "42000/42000 [==============================] - 12s 287us/step - loss: 0.7741 - acc: 0.7580 - val_loss: 0.6919 - val_acc: 0.7872\n",
            "Epoch 7/20\n",
            "42000/42000 [==============================] - 12s 288us/step - loss: 0.7340 - acc: 0.7705 - val_loss: 0.6256 - val_acc: 0.8091\n",
            "Epoch 8/20\n",
            "42000/42000 [==============================] - 12s 288us/step - loss: 0.7003 - acc: 0.7806 - val_loss: 0.6658 - val_acc: 0.8013\n",
            "Epoch 9/20\n",
            "42000/42000 [==============================] - 12s 288us/step - loss: 0.6661 - acc: 0.7900 - val_loss: 0.6175 - val_acc: 0.8117\n",
            "Epoch 10/20\n",
            "42000/42000 [==============================] - 12s 288us/step - loss: 0.6394 - acc: 0.7990 - val_loss: 0.6061 - val_acc: 0.8149\n",
            "Epoch 11/20\n",
            "42000/42000 [==============================] - 12s 285us/step - loss: 0.6153 - acc: 0.8048 - val_loss: 0.5274 - val_acc: 0.8398\n",
            "Epoch 12/20\n",
            "42000/42000 [==============================] - 12s 286us/step - loss: 0.5964 - acc: 0.8122 - val_loss: 0.5419 - val_acc: 0.8363\n",
            "Epoch 13/20\n",
            "42000/42000 [==============================] - 12s 286us/step - loss: 0.5842 - acc: 0.8162 - val_loss: 0.5062 - val_acc: 0.8460\n",
            "Epoch 14/20\n",
            "42000/42000 [==============================] - 12s 284us/step - loss: 0.5682 - acc: 0.8193 - val_loss: 0.5072 - val_acc: 0.8459\n",
            "Epoch 15/20\n",
            "42000/42000 [==============================] - 12s 296us/step - loss: 0.5635 - acc: 0.8199 - val_loss: 0.4587 - val_acc: 0.8632\n",
            "Epoch 16/20\n",
            "42000/42000 [==============================] - 12s 288us/step - loss: 0.5422 - acc: 0.8277 - val_loss: 0.5344 - val_acc: 0.8378\n",
            "Epoch 17/20\n",
            "42000/42000 [==============================] - 12s 286us/step - loss: 0.5255 - acc: 0.8342 - val_loss: 0.4790 - val_acc: 0.8568\n",
            "Epoch 18/20\n",
            "42000/42000 [==============================] - 13s 299us/step - loss: 0.5200 - acc: 0.8345 - val_loss: 0.4767 - val_acc: 0.8559\n",
            "Epoch 19/20\n",
            "42000/42000 [==============================] - 12s 297us/step - loss: 0.5141 - acc: 0.8359 - val_loss: 0.5904 - val_acc: 0.8267\n",
            "Epoch 20/20\n",
            "42000/42000 [==============================] - 12s 287us/step - loss: 0.5032 - acc: 0.8396 - val_loss: 0.4393 - val_acc: 0.8665\n"
          ],
          "name": "stdout"
        },
        {
          "output_type": "execute_result",
          "data": {
            "text/plain": [
              "<keras.callbacks.History at 0x7fc0eda67160>"
            ]
          },
          "metadata": {
            "tags": []
          },
          "execution_count": 10
        }
      ]
    },
    {
      "metadata": {
        "id": "kfmWt640o-7L",
        "colab_type": "code",
        "outputId": "71eb19ea-dad4-4ca5-d701-103ca863cad4",
        "colab": {
          "base_uri": "https://localhost:8080/",
          "height": 34
        }
      },
      "cell_type": "code",
      "source": [
        "from sklearn.metrics import accuracy_score\n",
        "\n",
        "y_test = tf.keras.utils.to_categorical(y_test, num_classes=10)\n",
        "\n",
        "# Predicting the Test set results\n",
        "y_pred = model.predict(X_test)\n",
        "y_pred = (y_pred > 0.5)\n",
        "\n",
        "print(f'Training Accuracy score of the model = {accuracy_score(y_pred, y_test)}')\n"
      ],
      "execution_count": 22,
      "outputs": [
        {
          "output_type": "stream",
          "text": [
            "Training Accuracy score of the model = 0.7833333333333333\n"
          ],
          "name": "stdout"
        }
      ]
    },
    {
      "metadata": {
        "id": "_d_k4JKMPwXR",
        "colab_type": "code",
        "outputId": "252b3295-6dfa-435b-f53b-7b58caf7ea27",
        "colab": {
          "base_uri": "https://localhost:8080/",
          "height": 483
        }
      },
      "cell_type": "code",
      "source": [
        "from sklearn.metrics import confusion_matrix\n",
        "\n",
        "# Set the figure size\n",
        "plt.figure(figsize=(12, 8))\n",
        "\n",
        "# Calculate the confusion matrix\n",
        "Y_pred_classes = np.argmax(y_pred,axis = 1) \n",
        "Y_true = np.argmax(y_test,axis = 1)\n",
        "cm = confusion_matrix(y_true=Y_true, y_pred=Y_pred_classes)\n",
        "\n",
        "# Normalize the confusion matrix\n",
        "cm = cm.astype('float') / cm.sum(axis=1)[:, np.newaxis] * 100.0\n",
        "\n",
        "# Visualize the confusion matrix\n",
        "sns.heatmap(cm, annot=True, cmap='Reds', fmt='.1f', square=True);"
      ],
      "execution_count": 24,
      "outputs": [
        {
          "output_type": "display_data",
          "data": {
            "image/png": "[encoded data removed]",
            "text/plain": [
              "<matplotlib.figure.Figure at 0x7fc0a47a2f60>"
            ]
          },
          "metadata": {
            "tags": []
          }
        }
      ]
    },
    {
      "metadata": {
        "id": "qTHsbge_S-xn",
        "colab_type": "code",
        "colab": {}
      },
      "cell_type": "code",
      "source": [
        "\n"
      ],
      "execution_count": 0,
      "outputs": []
    }
  ]
}